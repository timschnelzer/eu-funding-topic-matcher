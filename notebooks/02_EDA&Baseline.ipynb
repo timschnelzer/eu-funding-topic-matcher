{
 "cells": [
  {
   "cell_type": "code",
   "execution_count": null,
   "id": "6104602e",
   "metadata": {},
   "outputs": [
    {
     "name": "stdout",
     "output_type": "stream",
     "text": [
      "Loaded dataset: shape=(17797, 19)\n",
      "Columns: ['id', 'status', 'project_title', 'startDate', 'endDate', 'totalCost', 'ecMaxContribution', 'topics', 'keywords_str', 'topic_text', 'project_text_simple', 'project_text_keywords', 'year', 'year_-1', 'year_2021', 'year_2022', 'year_2023', 'year_2024', 'year_2025']\n"
     ]
    },
    {
     "data": {
      "text/html": [
       "<div>\n",
       "<style scoped>\n",
       "    .dataframe tbody tr th:only-of-type {\n",
       "        vertical-align: middle;\n",
       "    }\n",
       "\n",
       "    .dataframe tbody tr th {\n",
       "        vertical-align: top;\n",
       "    }\n",
       "\n",
       "    .dataframe thead th {\n",
       "        text-align: right;\n",
       "    }\n",
       "</style>\n",
       "<table border=\"1\" class=\"dataframe\">\n",
       "  <thead>\n",
       "    <tr style=\"text-align: right;\">\n",
       "      <th></th>\n",
       "      <th>id</th>\n",
       "      <th>status</th>\n",
       "      <th>project_title</th>\n",
       "      <th>startDate</th>\n",
       "      <th>endDate</th>\n",
       "      <th>totalCost</th>\n",
       "      <th>ecMaxContribution</th>\n",
       "      <th>topics</th>\n",
       "      <th>keywords_str</th>\n",
       "      <th>topic_text</th>\n",
       "      <th>project_text_simple</th>\n",
       "      <th>project_text_keywords</th>\n",
       "      <th>year</th>\n",
       "      <th>year_-1</th>\n",
       "      <th>year_2021</th>\n",
       "      <th>year_2022</th>\n",
       "      <th>year_2023</th>\n",
       "      <th>year_2024</th>\n",
       "      <th>year_2025</th>\n",
       "    </tr>\n",
       "  </thead>\n",
       "  <tbody>\n",
       "    <tr>\n",
       "      <th>0</th>\n",
       "      <td>101234994</td>\n",
       "      <td>SIGNED</td>\n",
       "      <td>OPTIMALMINE: slope optimal design for a paradi...</td>\n",
       "      <td>2025-09-01</td>\n",
       "      <td>2029-08-31</td>\n",
       "      <td>0</td>\n",
       "      <td>1072140</td>\n",
       "      <td>HORIZON-MSCA-2024-SE-01-01</td>\n",
       "      <td>mine optimisation rock slope engineering optim...</td>\n",
       "      <td>HORIZON-MSCA-2024-SE-01-01 Expected Outcome: P...</td>\n",
       "      <td>optimalmine slope optimal design for a paradig...</td>\n",
       "      <td>optimalmine slope optimal design for a paradig...</td>\n",
       "      <td>2024</td>\n",
       "      <td>0</td>\n",
       "      <td>0</td>\n",
       "      <td>0</td>\n",
       "      <td>0</td>\n",
       "      <td>1</td>\n",
       "      <td>0</td>\n",
       "    </tr>\n",
       "    <tr>\n",
       "      <th>1</th>\n",
       "      <td>101232577</td>\n",
       "      <td>SIGNED</td>\n",
       "      <td>Innovative high-sensitivity avalanche field-ef...</td>\n",
       "      <td>2025-09-01</td>\n",
       "      <td>2029-08-31</td>\n",
       "      <td>0</td>\n",
       "      <td>1618230</td>\n",
       "      <td>HORIZON-MSCA-2024-SE-01-01</td>\n",
       "      <td>field-effect transistor-based biosensors cance...</td>\n",
       "      <td>HORIZON-MSCA-2024-SE-01-01 Expected Outcome: P...</td>\n",
       "      <td>innovative highsensitivity avalanche fieldeffe...</td>\n",
       "      <td>innovative highsensitivity avalanche fieldeffe...</td>\n",
       "      <td>2024</td>\n",
       "      <td>0</td>\n",
       "      <td>0</td>\n",
       "      <td>0</td>\n",
       "      <td>0</td>\n",
       "      <td>1</td>\n",
       "      <td>0</td>\n",
       "    </tr>\n",
       "  </tbody>\n",
       "</table>\n",
       "</div>"
      ],
      "text/plain": [
       "          id  status                                      project_title  \\\n",
       "0  101234994  SIGNED  OPTIMALMINE: slope optimal design for a paradi...   \n",
       "1  101232577  SIGNED  Innovative high-sensitivity avalanche field-ef...   \n",
       "\n",
       "    startDate     endDate totalCost ecMaxContribution  \\\n",
       "0  2025-09-01  2029-08-31         0           1072140   \n",
       "1  2025-09-01  2029-08-31         0           1618230   \n",
       "\n",
       "                       topics  \\\n",
       "0  HORIZON-MSCA-2024-SE-01-01   \n",
       "1  HORIZON-MSCA-2024-SE-01-01   \n",
       "\n",
       "                                        keywords_str  \\\n",
       "0  mine optimisation rock slope engineering optim...   \n",
       "1  field-effect transistor-based biosensors cance...   \n",
       "\n",
       "                                          topic_text  \\\n",
       "0  HORIZON-MSCA-2024-SE-01-01 Expected Outcome: P...   \n",
       "1  HORIZON-MSCA-2024-SE-01-01 Expected Outcome: P...   \n",
       "\n",
       "                                 project_text_simple  \\\n",
       "0  optimalmine slope optimal design for a paradig...   \n",
       "1  innovative highsensitivity avalanche fieldeffe...   \n",
       "\n",
       "                               project_text_keywords  year  year_-1  \\\n",
       "0  optimalmine slope optimal design for a paradig...  2024        0   \n",
       "1  innovative highsensitivity avalanche fieldeffe...  2024        0   \n",
       "\n",
       "   year_2021  year_2022  year_2023  year_2024  year_2025  \n",
       "0          0          0          0          1          0  \n",
       "1          0          0          0          1          0  "
      ]
     },
     "execution_count": 1,
     "metadata": {},
     "output_type": "execute_result"
    }
   ],
   "source": [
    "# --- 1) Setup ---\n",
    "\n",
    "# Import necessary libraries\n",
    "import numpy as np\n",
    "import pandas as pd\n",
    "import os\n",
    "import matplotlib.pyplot as plt\n",
    "import requests\n",
    "\n",
    "# Define paths and filenames\n",
    "PROJECT_ROOT = os.path.abspath(os.path.join(os.getcwd(), \"..\"))\n",
    "DATA_DIR = os.path.join(PROJECT_ROOT, \"data\")\n",
    "PROC_DIR = os.path.join(DATA_DIR, \"processed\")\n",
    "os.makedirs(PROC_DIR, exist_ok=True)\n",
    "\n",
    "# Path to the unfiltered EDA dataset\n",
    "OUT_EDA_FULL  = os.path.join(PROC_DIR, \"cleaned_project_data_eda.csv\")  # Full EDA dataset\n",
    "\n",
    "# Optional: Link for downloading the dataset if not found locally\n",
    "DOWNLOAD_URL = \"https://drive.google.com/uc?id=1A1j9JsYjmD1EuanF9FFWsgi2wGbKQ1bg&export=download\"\n",
    "\n",
    "# Check if the file exists locally\n",
    "if not os.path.exists(OUT_EDA_FULL):\n",
    "    print(\"Dataset not found locally. Downloading from Google Drive...\")\n",
    "    # Download the file using the provided link\n",
    "    response = requests.get(DOWNLOAD_URL)\n",
    "    if response.status_code == 200:\n",
    "        with open(OUT_EDA_FULL, 'wb') as f:\n",
    "            f.write(response.content)\n",
    "        print(f\"Downloaded dataset to {OUT_EDA_FULL}\")\n",
    "    else:\n",
    "        raise FileNotFoundError(f\"Failed to download dataset from the link. HTTP Status: {response.status_code}\")\n",
    "\n",
    "# Load the full EDA dataset\n",
    "df = pd.read_csv(OUT_EDA_FULL, encoding=\"utf-8\")\n",
    "print(f\"Loaded dataset: shape={df.shape}\")\n",
    "print(f\"Columns: {df.columns.tolist()}\")\n",
    "df.head(2)\n"
   ]
  },
  {
   "cell_type": "code",
   "execution_count": null,
   "id": "ead7ddb5",
   "metadata": {},
   "outputs": [
    {
     "name": "stdout",
     "output_type": "stream",
     "text": [
      "Rows after filtering (filtered dataset): 4429 / 17797\n",
      "Unique topics in filtered dataset: 1873\n"
     ]
    }
   ],
   "source": [
    "# --- 2) Filtering ---\n",
    "\n",
    "# Filtering out very generic topics\n",
    "GENERIC_PREFIXES = (\"ERC\", \"HORIZON-MSCA\", \"HORIZON-WIDERA\", \"HORIZON-EIC\", \"HORIZON-EIE\")\n",
    "mask_keep = ~df[\"topics\"].astype(str).str.startswith(GENERIC_PREFIXES)\n",
    "\n",
    "# Create the filtered dataset\n",
    "df_filtered = df.loc[mask_keep].reset_index(drop=True)\n",
    "\n",
    "print(f\"Rows after filtering (filtered dataset): {len(df_filtered)} / {len(df)}\")\n",
    "print(f\"Unique topics in filtered dataset: {df_filtered['topics'].nunique()}\")"
   ]
  },
  {
   "cell_type": "code",
   "execution_count": null,
   "id": "18d496b0",
   "metadata": {},
   "outputs": [
    {
     "name": "stdout",
     "output_type": "stream",
     "text": [
      "Total number of projects: 17797\n",
      "Total number of unique topics: 2073\n",
      "\n",
      "Projects per topic distribution:\n"
     ]
    },
    {
     "data": {
      "text/plain": [
       "count    2073.000000\n",
       "mean        8.585142\n",
       "std        66.644157\n",
       "min         1.000000\n",
       "25%         1.000000\n",
       "50%         2.000000\n",
       "75%         3.000000\n",
       "max      1672.000000\n",
       "Name: count, dtype: float64"
      ]
     },
     "metadata": {},
     "output_type": "display_data"
    },
    {
     "name": "stdout",
     "output_type": "stream",
     "text": [
      "\n",
      "Top 10 topics by number of projects:\n"
     ]
    },
    {
     "data": {
      "text/plain": [
       "topics\n",
       "HORIZON-MSCA-2024-PF-01-01    1672\n",
       "HORIZON-MSCA-2023-PF-01-01    1306\n",
       "HORIZON-MSCA-2022-PF-01-01    1278\n",
       "HORIZON-MSCA-2021-PF-01-01    1198\n",
       "ERC-2024-STG                   481\n",
       "ERC-2021-STG                   464\n",
       "ERC-2022-STG                   409\n",
       "ERC-2023-STG                   398\n",
       "ERC-2022-COG                   322\n",
       "ERC-2021-COG                   316\n",
       "Name: count, dtype: int64"
      ]
     },
     "metadata": {},
     "output_type": "display_data"
    },
    {
     "data": {
      "image/png": "[encoded data removed]",
      "text/plain": [
       "<Figure size 1200x600 with 1 Axes>"
      ]
     },
     "metadata": {},
     "output_type": "display_data"
    },
    {
     "data": {
      "image/png": "[encoded data removed]",
      "text/plain": [
       "<Figure size 1200x600 with 1 Axes>"
      ]
     },
     "metadata": {},
     "output_type": "display_data"
    }
   ],
   "source": [
    "# --- 3) EDA on Filtered Dataset ---\n",
    "\n",
    "# How many projects in total?\n",
    "print(f\"Total number of projects: {len(df)}\")\n",
    "print(f\"Total number of unique topics: {df['topics'].nunique()}\")\n",
    "\n",
    "# Count projects per topic\n",
    "topic_counts = df['topics'].value_counts()\n",
    "\n",
    "# Display descriptive statistics for project counts per topic\n",
    "print(\"\\nProjects per topic distribution:\")\n",
    "display(topic_counts.describe())\n",
    "\n",
    "# Show the number of projects for the top topics\n",
    "print(\"\\nTop 10 topics by number of projects:\")\n",
    "display(topic_counts.head(10))\n",
    "\n",
    "# Plot the distribution of projects per topic\n",
    "plt.figure(figsize=(12, 6))\n",
    "topic_counts.hist(bins=50)\n",
    "plt.title('Distribution of Projects per Topic')\n",
    "plt.xlabel('Number of Projects')\n",
    "plt.ylabel('Number of Topics')\n",
    "plt.grid(False)\n",
    "plt.show()\n",
    "\n",
    "# Plot the distribution on a log scale for better visibility of topics with few projects\n",
    "plt.figure(figsize=(12, 6))\n",
    "topic_counts.hist(bins=50)\n",
    "plt.xscale('log')\n",
    "plt.title('Distribution of Projects per Topic (Log Scale)')\n",
    "plt.xlabel('Number of Projects (log scale)')\n",
    "plt.ylabel('Number of Topics')\n",
    "plt.grid(False)\n",
    "plt.show()"
   ]
  },
  {
   "cell_type": "code",
   "execution_count": null,
   "id": "689e6d1d",
   "metadata": {},
   "outputs": [
    {
     "name": "stdout",
     "output_type": "stream",
     "text": [
      "Top 10 topic groups based on the first 12 characters:\n"
     ]
    },
    {
     "data": {
      "text/plain": [
       "topic_prefix_12\n",
       "HORIZON-MSCA    6520\n",
       "HORIZON-EIC-    1090\n",
       "HORIZON-CL4-     896\n",
       "HORIZON-CL5-     857\n",
       "HORIZON-WIDE     723\n",
       "HORIZON-CL6-     631\n",
       "ERC-2024-STG     481\n",
       "ERC-2021-STG     464\n",
       "ERC-2022-STG     409\n",
       "HORIZON-HLTH     406\n",
       "Name: count, dtype: int64"
      ]
     },
     "metadata": {},
     "output_type": "display_data"
    }
   ],
   "source": [
    "# --- 4) Grouping Topics by Prefix ---\n",
    "# Extract the first 12 characters of the topic name\n",
    "df['topic_prefix_12'] = df['topics'].str[:12]\n",
    "\n",
    "# Group by the prefix and count the number of projects\n",
    "topic_prefix_counts = df['topic_prefix_12'].value_counts()\n",
    "\n",
    "print(\"Top 10 topic groups based on the first 12 characters:\")\n",
    "display(topic_prefix_counts.head(10))\n",
    "\n",
    "# Drop the temporary column\n",
    "df = df.drop(columns=['topic_prefix_12'])"
   ]
  },
  {
   "cell_type": "code",
   "execution_count": null,
   "id": "c3196cb1",
   "metadata": {},
   "outputs": [
    {
     "data": {
      "image/png": "[encoded data removed]",
      "text/plain": [
       "<Figure size 1000x600 with 1 Axes>"
      ]
     },
     "metadata": {},
     "output_type": "display_data"
    }
   ],
   "source": [
    "# --- 5) Binning Topics by Project Count ---\n",
    "# Define the bins for project counts\n",
    "bin_1 = (topic_counts <= 1).sum()\n",
    "bin_2_10 = ((topic_counts > 1) & (topic_counts <= 10)).sum()\n",
    "bin_11_20 = ((topic_counts > 10) & (topic_counts <= 20)).sum()\n",
    "bin_21_50 = ((topic_counts > 20) & (topic_counts <= 50)).sum()\n",
    "bin_51_100 = ((topic_counts > 50) & (topic_counts <= 100)).sum()\n",
    "bin_100_plus = (topic_counts > 100).sum()\n",
    "\n",
    "# Create labels for the bins\n",
    "bin_labels = ['1 or less', '2 to 10', '11 to 20', '21 to 50', '51 to 100', '> 100']\n",
    "bin_counts = [bin_1, bin_2_10, bin_11_20, bin_21_50, bin_51_100, bin_100_plus]\n",
    "\n",
    "# Plotting the distribution\n",
    "plt.figure(figsize=(10, 6))\n",
    "plt.bar(bin_labels, bin_counts)\n",
    "plt.title('Distribution of Topics by Project Count')\n",
    "plt.xlabel('Number of Projects per Topic')\n",
    "plt.ylabel('Number of Topics')\n",
    "plt.grid(axis='y', linestyle='--')\n",
    "plt.show()"
   ]
  },
  {
   "cell_type": "code",
   "execution_count": null,
   "id": "88858814",
   "metadata": {},
   "outputs": [
    {
     "name": "stdout",
     "output_type": "stream",
     "text": [
      "\n",
      "Missing values per column:\n",
      "id                          0\n",
      "status                      0\n",
      "project_title               0\n",
      "startDate                   0\n",
      "endDate                     0\n",
      "totalCost                   0\n",
      "ecMaxContribution           0\n",
      "topics                      0\n",
      "keywords_str             1543\n",
      "topic_text                  0\n",
      "project_text_simple         0\n",
      "project_text_keywords       0\n",
      "year                        0\n",
      "year_-1                     0\n",
      "year_2021                   0\n",
      "year_2022                   0\n",
      "year_2023                   0\n",
      "year_2024                   0\n",
      "year_2025                   0\n",
      "dtype: int64\n",
      "\n",
      "Analysis of projects with empty 'keywords_str' (Total: 1543 projects):\n",
      "\n",
      "Distribution of 'topics' for projects with empty 'keywords_str':\n"
     ]
    },
    {
     "data": {
      "text/plain": [
       "topics\n",
       "ERC-2023-POC                  213\n",
       "ERC-2022-POC2                 208\n",
       "ERC-2024-POC                  193\n",
       "ERC-2022-POC1                 156\n",
       "HORIZON-MSCA-2024-PF-01-01     42\n",
       "ERC-2024-STG                   29\n",
       "HORIZON-MSCA-2021-PF-01-01     28\n",
       "HORIZON-MSCA-2023-PF-01-01     28\n",
       "ERC-2023-STG                   27\n",
       "ERC-2022-STG                   27\n",
       "Name: count, dtype: int64"
      ]
     },
     "metadata": {},
     "output_type": "display_data"
    }
   ],
   "source": [
    "# --- 6) Analysis of Projects with Empty Keywords ---\n",
    "\n",
    "# Check for missing values in the dataset\n",
    "print(\"\\nMissing values per column:\")\n",
    "print(df.isnull().sum())\n",
    "\n",
    "# Filter for rows where keywords_str is empty or null\n",
    "empty_keywords_df = df[df['keywords_str'].isnull() | (df['keywords_str'].str.strip() == '')]\n",
    "\n",
    "print(f\"\\nAnalysis of projects with empty 'keywords_str' (Total: {len(empty_keywords_df)} projects):\")\n",
    "\n",
    "# Check for common topics with empty keywords\n",
    "print(\"\\nDistribution of 'topics' for projects with empty 'keywords_str':\")\n",
    "display(empty_keywords_df['topics'].value_counts().head(10)) # Display top 10 topics for brevity"
   ]
  },
  {
   "cell_type": "code",
   "execution_count": null,
   "id": "243fa407",
   "metadata": {},
   "outputs": [
    {
     "name": "stdout",
     "output_type": "stream",
     "text": [
      "\n",
      "Text length summary (characters) for semantic matching consideration:\n"
     ]
    },
    {
     "data": {
      "text/html": [
       "<div>\n",
       "<style scoped>\n",
       "    .dataframe tbody tr th:only-of-type {\n",
       "        vertical-align: middle;\n",
       "    }\n",
       "\n",
       "    .dataframe tbody tr th {\n",
       "        vertical-align: top;\n",
       "    }\n",
       "\n",
       "    .dataframe thead th {\n",
       "        text-align: right;\n",
       "    }\n",
       "</style>\n",
       "<table border=\"1\" class=\"dataframe\">\n",
       "  <thead>\n",
       "    <tr style=\"text-align: right;\">\n",
       "      <th></th>\n",
       "      <th>_len_project_text_simple</th>\n",
       "      <th>_len_topic_text</th>\n",
       "    </tr>\n",
       "  </thead>\n",
       "  <tbody>\n",
       "    <tr>\n",
       "      <th>count</th>\n",
       "      <td>17797.000000</td>\n",
       "      <td>17797.000000</td>\n",
       "    </tr>\n",
       "    <tr>\n",
       "      <th>mean</th>\n",
       "      <td>1915.531101</td>\n",
       "      <td>5199.648199</td>\n",
       "    </tr>\n",
       "    <tr>\n",
       "      <th>std</th>\n",
       "      <td>291.432977</td>\n",
       "      <td>2738.400662</td>\n",
       "    </tr>\n",
       "    <tr>\n",
       "      <th>min</th>\n",
       "      <td>95.000000</td>\n",
       "      <td>351.000000</td>\n",
       "    </tr>\n",
       "    <tr>\n",
       "      <th>25%</th>\n",
       "      <td>1889.000000</td>\n",
       "      <td>2593.000000</td>\n",
       "    </tr>\n",
       "    <tr>\n",
       "      <th>50%</th>\n",
       "      <td>2032.000000</td>\n",
       "      <td>5414.000000</td>\n",
       "    </tr>\n",
       "    <tr>\n",
       "      <th>75%</th>\n",
       "      <td>2073.000000</td>\n",
       "      <td>7564.000000</td>\n",
       "    </tr>\n",
       "    <tr>\n",
       "      <th>max</th>\n",
       "      <td>4046.000000</td>\n",
       "      <td>34946.000000</td>\n",
       "    </tr>\n",
       "  </tbody>\n",
       "</table>\n",
       "</div>"
      ],
      "text/plain": [
       "       _len_project_text_simple  _len_topic_text\n",
       "count              17797.000000     17797.000000\n",
       "mean                1915.531101      5199.648199\n",
       "std                  291.432977      2738.400662\n",
       "min                   95.000000       351.000000\n",
       "25%                 1889.000000      2593.000000\n",
       "50%                 2032.000000      5414.000000\n",
       "75%                 2073.000000      7564.000000\n",
       "max                 4046.000000     34946.000000"
      ]
     },
     "metadata": {},
     "output_type": "display_data"
    }
   ],
   "source": [
    "# --- 7) Text Length Analysis ---\n",
    "# Calculate text lengths\n",
    "df[\"_len_project_text_simple\"] = df.get(\"project_text_simple\", \"\").fillna(\"\").apply(len)\n",
    "df[\"_len_topic_text\"]          = df.get(\"topic_text\", \"\").fillna(\"\").apply(len)\n",
    "\n",
    "print(\"\\nText length summary (characters) for semantic matching consideration:\")\n",
    "display(df[[\"_len_project_text_simple\", \"_len_topic_text\"]].describe())"
   ]
  },
  {
   "cell_type": "code",
   "execution_count": null,
   "id": "01f191e3",
   "metadata": {},
   "outputs": [
    {
     "name": "stdout",
     "output_type": "stream",
     "text": [
      "\n",
      "Project duration statistics (in days):\n"
     ]
    },
    {
     "data": {
      "text/plain": [
       "count    17797.000000\n",
       "mean      1198.521773\n",
       "std        473.013752\n",
       "min        182.000000\n",
       "25%        730.000000\n",
       "50%       1095.000000\n",
       "75%       1825.000000\n",
       "max       3652.000000\n",
       "Name: duration_days, dtype: float64"
      ]
     },
     "metadata": {},
     "output_type": "display_data"
    }
   ],
   "source": [
    "# --- 8) Project Duration Analysis ---\n",
    "# Convert date columns to datetime objects\n",
    "df['startDate'] = pd.to_datetime(df['startDate'], errors='coerce')\n",
    "df['endDate'] = pd.to_datetime(df['endDate'], errors='coerce')\n",
    "\n",
    "# Calculate project duration in days\n",
    "df['duration_days'] = (df['endDate'] - df['startDate']).dt.days\n",
    "\n",
    "print(\"\\nProject duration statistics (in days):\")\n",
    "display(df['duration_days'].describe())"
   ]
  },
  {
   "cell_type": "code",
   "execution_count": null,
   "id": "b58c31dc",
   "metadata": {},
   "outputs": [
    {
     "name": "stdout",
     "output_type": "stream",
     "text": [
      "\n",
      "Statistics for 'ecMaxContribution':\n"
     ]
    },
    {
     "data": {
      "text/plain": [
       "count      17797\n",
       "unique      9996\n",
       "top       150000\n",
       "freq         851\n",
       "Name: ecMaxContribution, dtype: object"
      ]
     },
     "metadata": {},
     "output_type": "display_data"
    },
    {
     "name": "stdout",
     "output_type": "stream",
     "text": [
      "\n",
      "Statistics for 'totalCost':\n"
     ]
    },
    {
     "data": {
      "text/plain": [
       "count     17797\n",
       "unique     7928\n",
       "top           0\n",
       "freq       8636\n",
       "Name: totalCost, dtype: object"
      ]
     },
     "metadata": {},
     "output_type": "display_data"
    },
    {
     "name": "stdout",
     "output_type": "stream",
     "text": [
      "\n",
      "Number of projects with 'totalCost' = 0: 8636 out of 17797\n"
     ]
    }
   ],
   "source": [
    "# --- 9) Financial Analysis ---\n",
    "# How high are the ecMaxContributions and is that realistic? \n",
    "print(\"\\nStatistics for 'ecMaxContribution':\")\n",
    "display(df['ecMaxContribution'].describe())\n",
    "\n",
    "# Check for totalCost and how many fields are 0\n",
    "print(\"\\nStatistics for 'totalCost':\")\n",
    "display(df['totalCost'].describe())\n",
    "zero_total_cost_count = (df['totalCost'] == '0').sum()\n",
    "print(f\"\\nNumber of projects with 'totalCost' = 0: {zero_total_cost_count} out of {len(df)}\")"
   ]
  },
  {
   "cell_type": "code",
   "execution_count": null,
   "id": "c7d68e78",
   "metadata": {},
   "outputs": [
    {
     "name": "stdout",
     "output_type": "stream",
     "text": [
      "\n",
      "Running TF-IDF Cosine for filtered dataset: project_text_simple\n",
      "Results for filtered dataset project_text_simple: {'Top-1 Accuracy': np.float64(0.5608489501016031), 'Top-10 Accuracy': np.float64(0.8552720704447957)}\n",
      "\n",
      "Running TF-IDF Cosine for unfiltered dataset: project_text_simple\n",
      "Results for unfiltered dataset project_text_simple: {'Top-1 Accuracy': np.float64(0.1563746698881834), 'Top-10 Accuracy': np.float64(0.2576276900601225)}\n",
      "\n",
      "Running TF-IDF Cosine for filtered dataset: project_text_keywords\n",
      "Results for filtered dataset project_text_keywords: {'Top-1 Accuracy': np.float64(0.5793632874237977), 'Top-10 Accuracy': np.float64(0.8713027771505983)}\n",
      "\n",
      "Running TF-IDF Cosine for unfiltered dataset: project_text_keywords\n",
      "Results for unfiltered dataset project_text_keywords: {'Top-1 Accuracy': np.float64(0.16126313423610722), 'Top-10 Accuracy': np.float64(0.2605495308198011)}\n"
     ]
    }
   ],
   "source": [
    "# --- 10) Baseline Models ---\n",
    "# Import necessary libraries for baseline models\n",
    "import random\n",
    "import pandas as pd\n",
    "from sklearn.feature_extraction.text import TfidfVectorizer\n",
    "from sklearn.metrics.pairwise import cosine_similarity\n",
    "\n",
    "# Helper function to evaluate the accuracy\n",
    "def evaluate(df_results):\n",
    "    \"\"\"Compute Top-1 and Top-10 accuracy.\"\"\"\n",
    "    top1_acc = np.mean(df_results['true_topic'] == df_results['top1_pred'])\n",
    "    top10_acc = np.mean(df_results.apply(lambda row: row['true_topic'] in row['top10_pred'], axis=1))\n",
    "    return {'Top-1 Accuracy': top1_acc, 'Top-10 Accuracy': top10_acc}\n",
    "\n",
    "# Random baseline predictions\n",
    "def random_baseline(df, n_candidates=10, seed=42):\n",
    "    \"\"\"Random baseline predictions.\"\"\"\n",
    "    random.seed(seed)\n",
    "    topics_list = df['topics'].unique().tolist()\n",
    "    results = []\n",
    "    for _, row in df.iterrows():\n",
    "        random_topics = random.sample(topics_list, min(n_candidates, len(topics_list)))\n",
    "        results.append({\n",
    "            'project_id': row['id'],\n",
    "            'true_topic': row['topics'],\n",
    "            'top1_pred': random_topics[0],\n",
    "            'top10_pred': random_topics\n",
    "        })\n",
    "    return pd.DataFrame(results)\n",
    "\n",
    "# TF-IDF + Cosine similarity baseline\n",
    "def tfidf_cosine_baseline(df, text_col, n_candidates=10):\n",
    "    \"\"\"TF-IDF + Cosine similarity baseline.\"\"\"\n",
    "    vectorizer = TfidfVectorizer(max_features=50000)\n",
    "\n",
    "    # Fit TF-IDF on topic descriptions\n",
    "    topic_texts = df[['topics', 'topic_text']].drop_duplicates().reset_index(drop=True)\n",
    "    tfidf_topic = vectorizer.fit_transform(topic_texts['topic_text'])\n",
    "\n",
    "    results = []\n",
    "\n",
    "    for _, row in df.iterrows():\n",
    "        project_vec = vectorizer.transform([row[text_col]])\n",
    "        cosine_scores = cosine_similarity(project_vec, tfidf_topic).flatten()\n",
    "\n",
    "        # Get top-N indices\n",
    "        top_idx = cosine_scores.argsort()[::-1][:n_candidates]\n",
    "        top_topics = topic_texts.iloc[top_idx]['topics'].tolist()\n",
    "\n",
    "        results.append({\n",
    "            'project_id': row['id'],\n",
    "            'true_topic': row['topics'],\n",
    "            'top1_pred': top_topics[0],\n",
    "            'top10_pred': top_topics\n",
    "        })\n",
    "    return pd.DataFrame(results)\n",
    "\n",
    "# Assuming all necessary imports and function definitions are included above\n",
    "\n",
    "# Filtered baseline model\n",
    "df_random_filtered = random_baseline(df_filtered)\n",
    "df_random_unfiltered = random_baseline(df)\n",
    "\n",
    "# Evaluate random baseline performance\n",
    "eval_random_filtered = evaluate(df_random_filtered)\n",
    "eval_random_unfiltered = evaluate(df_random_unfiltered)\n",
    "\n",
    "# TF-IDF + Cosine similarity baseline for both datasets\n",
    "text_variants = ['project_text_simple', 'project_text_keywords']\n",
    "baseline_results_filtered = {}\n",
    "baseline_results_unfiltered = {}\n",
    "\n",
    "for col in text_variants:\n",
    "    print(f\"\\nRunning TF-IDF Cosine for filtered dataset: {col}\")\n",
    "    df_tfidf_filtered = tfidf_cosine_baseline(df_filtered, col)\n",
    "    baseline_results_filtered[col] = evaluate(df_tfidf_filtered)\n",
    "    print(f\"Results for filtered dataset {col}: {baseline_results_filtered[col]}\")\n",
    "\n",
    "    print(f\"\\nRunning TF-IDF Cosine for unfiltered dataset: {col}\")\n",
    "    df_tfidf_unfiltered = tfidf_cosine_baseline(df, col)\n",
    "    baseline_results_unfiltered[col] = evaluate(df_tfidf_unfiltered)\n",
    "    print(f\"Results for unfiltered dataset {col}: {baseline_results_unfiltered[col]}\")\n"
   ]
  },
  {
   "cell_type": "code",
   "execution_count": null,
   "id": "24adfb09",
   "metadata": {},
   "outputs": [
    {
     "name": "stdout",
     "output_type": "stream",
     "text": [
      "Baseline Results Summary:\n"
     ]
    },
    {
     "data": {
      "text/html": [
       "<div>\n",
       "<style scoped>\n",
       "    .dataframe tbody tr th:only-of-type {\n",
       "        vertical-align: middle;\n",
       "    }\n",
       "\n",
       "    .dataframe tbody tr th {\n",
       "        vertical-align: top;\n",
       "    }\n",
       "\n",
       "    .dataframe thead th {\n",
       "        text-align: right;\n",
       "    }\n",
       "</style>\n",
       "<table border=\"1\" class=\"dataframe\">\n",
       "  <thead>\n",
       "    <tr style=\"text-align: right;\">\n",
       "      <th></th>\n",
       "      <th>Dataset</th>\n",
       "      <th>Text Variant</th>\n",
       "      <th>Top-1 Accuracy</th>\n",
       "      <th>Top-10 Accuracy</th>\n",
       "    </tr>\n",
       "  </thead>\n",
       "  <tbody>\n",
       "    <tr>\n",
       "      <th>0</th>\n",
       "      <td>Filtered</td>\n",
       "      <td>project_text_simple</td>\n",
       "      <td>0.560849</td>\n",
       "      <td>0.855272</td>\n",
       "    </tr>\n",
       "    <tr>\n",
       "      <th>1</th>\n",
       "      <td>Filtered</td>\n",
       "      <td>project_text_keywords</td>\n",
       "      <td>0.579363</td>\n",
       "      <td>0.871303</td>\n",
       "    </tr>\n",
       "    <tr>\n",
       "      <th>2</th>\n",
       "      <td>Unfiltered</td>\n",
       "      <td>project_text_simple</td>\n",
       "      <td>0.156375</td>\n",
       "      <td>0.257628</td>\n",
       "    </tr>\n",
       "    <tr>\n",
       "      <th>3</th>\n",
       "      <td>Unfiltered</td>\n",
       "      <td>project_text_keywords</td>\n",
       "      <td>0.161263</td>\n",
       "      <td>0.260550</td>\n",
       "    </tr>\n",
       "  </tbody>\n",
       "</table>\n",
       "</div>"
      ],
      "text/plain": [
       "      Dataset           Text Variant  Top-1 Accuracy  Top-10 Accuracy\n",
       "0    Filtered    project_text_simple        0.560849         0.855272\n",
       "1    Filtered  project_text_keywords        0.579363         0.871303\n",
       "2  Unfiltered    project_text_simple        0.156375         0.257628\n",
       "3  Unfiltered  project_text_keywords        0.161263         0.260550"
      ]
     },
     "metadata": {},
     "output_type": "display_data"
    }
   ],
   "source": [
    "# --- 11) Summary of Baseline Results ---\n",
    "# Prepare a dictionary of results\n",
    "summary_dict = {\n",
    "    'Dataset': ['Filtered', 'Filtered', 'Unfiltered', 'Unfiltered'],\n",
    "    'Text Variant': ['project_text_simple', 'project_text_keywords', 'project_text_simple', 'project_text_keywords'],\n",
    "    'Top-1 Accuracy': [\n",
    "        baseline_results_filtered['project_text_simple']['Top-1 Accuracy'],\n",
    "        baseline_results_filtered['project_text_keywords']['Top-1 Accuracy'],\n",
    "        baseline_results_unfiltered['project_text_simple']['Top-1 Accuracy'],\n",
    "        baseline_results_unfiltered['project_text_keywords']['Top-1 Accuracy'],\n",
    "    ],\n",
    "    'Top-10 Accuracy': [\n",
    "        baseline_results_filtered['project_text_simple']['Top-10 Accuracy'],\n",
    "        baseline_results_filtered['project_text_keywords']['Top-10 Accuracy'],\n",
    "        baseline_results_unfiltered['project_text_simple']['Top-10 Accuracy'],\n",
    "        baseline_results_unfiltered['project_text_keywords']['Top-10 Accuracy'],\n",
    "    ]\n",
    "}\n",
    "\n",
    "# Convert to DataFrame\n",
    "summary_df = pd.DataFrame(summary_dict)\n",
    "\n",
    "# Show the table\n",
    "print(\"Baseline Results Summary:\")\n",
    "display(summary_df)\n"
   ]
  },
  {
   "cell_type": "code",
   "execution_count": null,
   "id": "621a0ca9",
   "metadata": {},
   "outputs": [
    {
     "data": {
      "image/png": "[encoded data removed]",
      "text/plain": [
       "<Figure size 1000x600 with 1 Axes>"
      ]
     },
     "metadata": {},
     "output_type": "display_data"
    }
   ],
   "source": [
    "# --- 12) Visualization of Baseline Results ---\n",
    "import matplotlib.pyplot as plt\n",
    "import numpy as np\n",
    "\n",
    "# Set up bar positions\n",
    "labels = summary_df['Text Variant'].unique()\n",
    "x = np.arange(len(labels))  # the label locations\n",
    "width = 0.35  # width of the bars\n",
    "\n",
    "# Top-1 Accuracy\n",
    "top1_filtered = summary_df[summary_df['Dataset'] == 'Filtered']['Top-1 Accuracy']\n",
    "top1_unfiltered = summary_df[summary_df['Dataset'] == 'Unfiltered']['Top-1 Accuracy']\n",
    "\n",
    "# Top-10 Accuracy\n",
    "top10_filtered = summary_df[summary_df['Dataset'] == 'Filtered']['Top-10 Accuracy']\n",
    "top10_unfiltered = summary_df[summary_df['Dataset'] == 'Unfiltered']['Top-10 Accuracy']\n",
    "\n",
    "fig, ax = plt.subplots(figsize=(10,6))\n",
    "\n",
    "# Plot Top-1\n",
    "ax.bar(x - width/2, top1_filtered, width, label='Top-1 Filtered', color='skyblue')\n",
    "ax.bar(x + width/2, top1_unfiltered, width, label='Top-1 Unfiltered', color='lightcoral')\n",
    "\n",
    "# Plot Top-10 on top of Top-1\n",
    "ax.bar(x - width/2, top10_filtered - top1_filtered, width, bottom=top1_filtered, label='Top-10 Filtered', color='blue', alpha=0.5)\n",
    "ax.bar(x + width/2, top10_unfiltered - top1_unfiltered, width, bottom=top1_unfiltered, label='Top-10 Unfiltered', color='red', alpha=0.5)\n",
    "\n",
    "# Labels and formatting\n",
    "ax.set_xticks(x)\n",
    "ax.set_xticklabels(labels)\n",
    "ax.set_ylabel('Accuracy')\n",
    "ax.set_title('Baseline Model Accuracy Comparison (Top-1 and Top-10)')\n",
    "ax.legend()\n",
    "plt.ylim(0,1)\n",
    "plt.show()\n",
    "\n"
   ]
  },
  {
   "cell_type": "code",
   "execution_count": null,
   "id": "c776ac22",
   "metadata": {},
   "outputs": [],
   "source": []
  }
 ],
 "metadata": {
  "kernelspec": {
   "display_name": "Python 3",
   "language": "python",
   "name": "python3"
  },
  "language_info": {
   "codemirror_mode": {
    "name": "ipython",
    "version": 3
   },
   "file_extension": ".py",
   "mimetype": "text/x-python",
   "name": "python",
   "nbconvert_exporter": "python",
   "pygments_lexer": "ipython3",
   "version": "3.11.1"
  }
 },
 "nbformat": 4,
 "nbformat_minor": 5
}
